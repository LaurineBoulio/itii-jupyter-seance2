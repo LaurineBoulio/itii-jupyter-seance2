{
 "cells": [
  {
   "cell_type": "code",
   "execution_count": 5,
   "metadata": {},
   "outputs": [
    {
     "name": "stdout",
     "output_type": "stream",
     "text": [
      "0\n"
     ]
    }
   ],
   "source": [
    "class Point2D:\n",
    "  def __init__(self,px,py):\n",
    "    self.x=px\n",
    "    self.y=py\n",
    "  \n",
    "  def getX(self):\n",
    "    return self.x\n",
    "\n",
    "mypoint2d = Point2D(0,0)\n",
    "print(mypoint2d.getX())"
   ]
  },
  {
   "cell_type": "code",
   "execution_count": 10,
   "metadata": {},
   "outputs": [],
   "source": [
    "class Rectangle:\n",
    "    def __init__(self,long,larg):\n",
    "        self.long=long\n",
    "        self.larg=larg\n",
    "        \n",
    "    def perimetre(self):\n",
    "        return self.long*2 + selg.larg\n",
    "    \n",
    "    def surface(self):\n",
    "        return self.long*self.larg\n",
    "    \n",
    "    def getLong(self):\n",
    "        return self.long\n",
    "    \n",
    "    def getLarg(self):\n",
    "        return self.larg\n",
    "   \n",
    "    def setLong(self, longueur):\n",
    "        self.long=longueur\n",
    "    \n",
    "    def setLarg(self, larg):\n",
    "        self.larg=larg\n",
    "    \n",
    "class Parallelepipede(Rectangle):\n",
    "    def __init__(self,haut):\n",
    "        self.haut=haut\n",
    "        \n",
    "    def volume(self):\n",
    "        return self.long*self.larg*self.haut\n"
   ]
  },
  {
   "cell_type": "code",
   "execution_count": null,
   "metadata": {},
   "outputs": [],
   "source": [
    "class Vecteur2D:\n",
    "    def __init__(self,x,y):\n",
    "        self.x="
   ]
  }
 ],
 "metadata": {
  "kernelspec": {
   "display_name": "Python 3",
   "language": "python",
   "name": "python3"
  },
  "language_info": {
   "codemirror_mode": {
    "name": "ipython",
    "version": 3
   },
   "file_extension": ".py",
   "mimetype": "text/x-python",
   "name": "python",
   "nbconvert_exporter": "python",
   "pygments_lexer": "ipython3",
   "version": "3.7.6"
  }
 },
 "nbformat": 4,
 "nbformat_minor": 4
}
